{
  "nbformat": 4,
  "nbformat_minor": 0,
  "metadata": {
    "colab": {
      "provenance": [],
      "toc_visible": true,
      "authorship_tag": "ABX9TyNUhqfi8G6MlVVsvnHTq9wx",
      "include_colab_link": true
    },
    "kernelspec": {
      "name": "python3",
      "display_name": "Python 3"
    },
    "language_info": {
      "name": "python"
    }
  },
  "cells": [
    {
      "cell_type": "markdown",
      "metadata": {
        "id": "view-in-github",
        "colab_type": "text"
      },
      "source": [
        "<a href=\"https://colab.research.google.com/github/Rafa-antonio/Microproyecto-Inteligencia-Artificial/blob/main/tarea2.ipynb\" target=\"_parent\"><img src=\"https://colab.research.google.com/assets/colab-badge.svg\" alt=\"Open In Colab\"/></a>"
      ]
    },
    {
      "cell_type": "code",
      "source": [
        "# Importar las librerías necesarias\n",
        "import numpy as np"
      ],
      "metadata": {
        "id": "fBC32jx4W1lw"
      },
      "execution_count": null,
      "outputs": []
    },
    {
      "cell_type": "code",
      "source": [
        "# Definir la clase de la Red Neuronal\n",
        "class NeuralNetwork:\n",
        "    def __init__(self, input_size, hidden_size, output_size):\n",
        "        # Inicializar los pesos de forma aleatoria\n",
        "        self.weights1 = np.random.randn(input_size, hidden_size)\n",
        "        self.weights2 = np.random.randn(hidden_size, output_size)\n",
        "\n",
        "    def forward(self, X):\n",
        "        # Calcular la salida de la red neuronal\n",
        "        self.hidden_layer = np.dot(X, self.weights1)\n",
        "        self.hidden_layer_activation = self.sigmoid(self.hidden_layer)\n",
        "        self.output_layer = np.dot(self.hidden_layer_activation, self.weights2)\n",
        "        self.output_layer_activation = self.sigmoid(self.output_layer)\n",
        "        return self.output_layer_activation\n",
        "\n",
        "    def sigmoid(self, x):\n",
        "        # Función de activación sigmoidal\n",
        "        return 1 / (1 + np.exp(-x))\n",
        "\n",
        "    def sigmoid_derivative(self, x):\n",
        "        # Derivada de la función de activación sigmoidal\n",
        "        return x * (1 - x)\n",
        "\n",
        "    def backward(self, X, y, output):\n",
        "        # Calcular los errores y ajustar los pesos\n",
        "        self.output_error = y - output\n",
        "        self.output_delta = self.output_error * self.sigmoid_derivative(output)\n",
        "\n",
        "        self.hidden_error = np.dot(self.output_delta, self.weights2.T)\n",
        "        self.hidden_delta = self.hidden_error * self.sigmoid_derivative(self.hidden_layer_activation)\n",
        "\n",
        "        self.weights2 += np.dot(self.hidden_layer_activation.T, self.output_delta)\n",
        "        self.weights1 += np.dot(X.T, self.hidden_delta)\n",
        "\n",
        "    def train(self, X, y, epochs):\n",
        "        # Entrenar la red neuronal\n",
        "        for epoch in range(epochs):\n",
        "            output = self.forward(X)\n",
        "            self.backward(X, y, output)\n",
        "\n",
        "    def predict(self, X):\n",
        "        # Realizar predicciones\n",
        "        return self.forward(X)"
      ],
      "metadata": {
        "id": "9s9d1ACTWxXg"
      },
      "execution_count": null,
      "outputs": []
    },
    {
      "cell_type": "code",
      "source": [
        "# Crear los datos de entrenamiento\n",
        "X = np.array([[0, 0], [0, 1], [1, 0], [1, 1]])\n",
        "y = np.array([[0], [1], [1], [0]])\n",
        "\n",
        "# Crear la instancia de la red neuronal\n",
        "nn = NeuralNetwork(input_size=2, hidden_size=3, output_size=1)\n",
        "\n",
        "# Entrenar la red neuronal\n",
        "nn.train(X, y, epochs=10000)\n",
        "\n",
        "# Realizar predicciones\n",
        "predictions = nn.predict(X)\n",
        "print(predictions)\n"
      ],
      "metadata": {
        "colab": {
          "base_uri": "https://localhost:8080/"
        },
        "id": "Sj4YF--BWTKm",
        "outputId": "660623b6-d910-4239-9bef-fd3925acedc1"
      },
      "execution_count": null,
      "outputs": [
        {
          "output_type": "stream",
          "name": "stdout",
          "text": [
            "[[0.02232123]\n",
            " [0.97026794]\n",
            " [0.96415159]\n",
            " [0.02884079]]\n"
          ]
        }
      ]
    }
  ]
}